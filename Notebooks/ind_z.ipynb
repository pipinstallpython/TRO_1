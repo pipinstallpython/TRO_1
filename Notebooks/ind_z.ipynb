{
 "cells": [
  {
   "cell_type": "markdown",
   "id": "f13b845d",
   "metadata": {},
   "source": [
    "# Задача\n",
    "\n",
    "В июле 2023 года планируется взять кредит в банке на три года в размере S тыс. рублей. Условия его возврата таковы:\n",
    "\n",
    "- каждый апрель долг возрастает на 20% по сравнению с концом предыдущего года;\n",
    "- с мая по август каждого года необходимо выплатить часть долга;\n",
    "- в сентябре 2024 и 2025 годов долг остаётся равным S тыс. рублей;\n",
    "- выплаты в 2023, 2024 и 2025 годах равны по 700 тыс. рублей;\n",
    "- к сентябрю 2025 года долг будет выплачен полностью.\n",
    "\n",
    "Найдите общую сумму выплат за три года."
   ]
  },
  {
   "cell_type": "code",
   "execution_count": 17,
   "id": "03535669",
   "metadata": {},
   "outputs": [],
   "source": [
    "S = 1000  # сумма кредита в тыс. руб.\n",
    "i = ((1 + 0.25)**(1/12)) - 1  # ежемесячная процентная ставка\n",
    "n = 60  # количество месяцев выплаты кредита"
   ]
  },
  {
   "cell_type": "code",
   "execution_count": 18,
   "id": "49248ef3",
   "metadata": {},
   "outputs": [],
   "source": [
    "# Вычисляем аннуитетный платеж для каждого года\n",
    "payments = []\n",
    "for year in range(2016, 2022):\n",
    "    if year in [2017, 2018, 2019]:\n",
    "        payments.append(S)\n",
    "    elif year in [2020, 2021]:\n",
    "        payments.append(625)\n",
    "    else:\n",
    "        m = (year - 2016) * 12  # количество месяцев прошло с начала выплат\n",
    "        remaining_months = n - m\n",
    "        a = (S * i) / (1 - (1 + i)**(-remaining_months))  # аннуитетный платеж\n",
    "        payments.append(a)"
   ]
  },
  {
   "cell_type": "code",
   "execution_count": 19,
   "id": "e94f978c",
   "metadata": {},
   "outputs": [
    {
     "name": "stdout",
     "output_type": "stream",
     "text": [
      "Общая сумма выплат за пять лет составляет 4277.917160164068 тыс. руб.\n"
     ]
    }
   ],
   "source": [
    "# Вычисляем общую сумму выплат за пять лет\n",
    "total_payments = sum(payments)\n",
    "\n",
    "print(\"Общая сумма выплат за пять лет составляет\", total_payments, \"тыс. руб.\")"
   ]
  }
 ],
 "metadata": {
  "kernelspec": {
   "display_name": "Python 3 (ipykernel)",
   "language": "python",
   "name": "python3"
  },
  "language_info": {
   "codemirror_mode": {
    "name": "ipython",
    "version": 3
   },
   "file_extension": ".py",
   "mimetype": "text/x-python",
   "name": "python",
   "nbconvert_exporter": "python",
   "pygments_lexer": "ipython3",
   "version": "3.11.1"
  }
 },
 "nbformat": 4,
 "nbformat_minor": 5
}
